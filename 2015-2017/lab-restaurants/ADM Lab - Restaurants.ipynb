{
 "cells": [
  {
   "cell_type": "markdown",
   "metadata": {},
   "source": [
    "We will work with the data provided by the [Open Data portal of Italy](http://www.datiopen.it) that aggregates datasets published by the Italian government, the Regions and Provinces of Italy and the City Houses. We will work with the dataset produced by the Region of Lazio regarding the bars & restaurants that operate in the region in the period 2007-2013. The data is originally provided by the [Regional Observatory of Lazio](http://www.osservatoriocommercio.lazio.it/). The dataset is available in various different formats, here we will work with the one in JSON format:\n",
    "* [Regione Lazio Regione Lazio - Pubblici esercizi permanenti (Bar-Ristoranti)](http://www.datiopen.it/it/opendata/Regione_Lazio_Pubblici_esercizi_permanenti_Bar_Ristoranti_)\n",
    "\n",
    "The Open Data portal is developed on the [CKAN platform](https://ckan.org/), a data management system that makes data accessible – by providing tools to streamline publishing, sharing, finding and using data. Through the *Scarica* tab you can download the dataset in JSON format (under the section *Esporta in altri formati*). For convenience, rename the file to *dataset.json*.\n",
    "\n",
    "The dataset provides the following information:\n",
    "- Municipality (ccomune)\n",
    "- Province (cprovincia)\n",
    "- Year (canno)\n",
    "- Bars\n",
    " * Total (cbar_totale)\n",
    " * New Openings (cbar_aperture)\n",
    " * Closed (cbar_chiusure)\n",
    " * Subingressi (cbar_subingressi)\n",
    "- Restaurants\n",
    " * Total (cristoranti_totale)\n",
    " * New Openings (cristoranti_aperture)\n",
    " * Closed (cristoranti_chiusure)\n",
    " * Subingressi (cristoranti_subingressi)\n",
    "- Bar-Restaurants\n",
    " * Total (cbar_ristoranti_totale)\n",
    " * New Openings (cbar_ristoranti_aperture)\n",
    " * Closed (cbar_ristoranti_chiusure)\n",
    " * Subingressi (cbar_ristoranti_subingressi)\n",
    "  \n",
    "### Load Datasets in JSON format\n",
    "\n",
    "The files retrieved follows a JSON format. \n",
    "\n",
    "We will use the [JSON encoder and decoder](https://docs.python.org/3/library/json.html) a standard python package as defined in [W3C School on JSON](https://www.w3schools.com/js/js_json_intro.asp). \n",
    "\n",
    "We load all the contents of the file into a string variable *data*."
   ]
  },
  {
   "cell_type": "code",
   "execution_count": 1,
   "metadata": {
    "collapsed": true
   },
   "outputs": [],
   "source": [
    "fo = open('dataset.json', 'r')\n",
    "data = fo.read()\n",
    "fo.close()"
   ]
  },
  {
   "cell_type": "markdown",
   "metadata": {},
   "source": [
    "Essentially all the contents of the file are loaded into the available memory of our machine."
   ]
  },
  {
   "cell_type": "code",
   "execution_count": 2,
   "metadata": {
    "collapsed": false
   },
   "outputs": [
    {
     "data": {
      "text/plain": [
       "1216003"
      ]
     },
     "execution_count": 2,
     "metadata": {},
     "output_type": "execute_result"
    }
   ],
   "source": [
    "len(data)"
   ]
  },
  {
   "cell_type": "markdown",
   "metadata": {},
   "source": [
    "We use the [loads](https://docs.python.org/3/library/json.html#encoders-and-decoders) standard decoder that converts the JSON string sequence into a standard list object where each row of the list contains a dictionary object."
   ]
  },
  {
   "cell_type": "code",
   "execution_count": 3,
   "metadata": {
    "collapsed": false
   },
   "outputs": [],
   "source": [
    "import json\n",
    "dataset = json.loads(data)"
   ]
  },
  {
   "cell_type": "code",
   "execution_count": 4,
   "metadata": {
    "collapsed": false
   },
   "outputs": [
    {
     "data": {
      "text/plain": [
       "list"
      ]
     },
     "execution_count": 4,
     "metadata": {},
     "output_type": "execute_result"
    }
   ],
   "source": [
    "type(dataset)"
   ]
  },
  {
   "cell_type": "markdown",
   "metadata": {},
   "source": [
    "The dataset contains a total of 2646 rows."
   ]
  },
  {
   "cell_type": "code",
   "execution_count": 5,
   "metadata": {
    "collapsed": false
   },
   "outputs": [
    {
     "data": {
      "text/plain": [
       "2646"
      ]
     },
     "execution_count": 5,
     "metadata": {},
     "output_type": "execute_result"
    }
   ],
   "source": [
    "len(dataset)"
   ]
  },
  {
   "cell_type": "markdown",
   "metadata": {},
   "source": [
    "In this format we can access each row directly:"
   ]
  },
  {
   "cell_type": "code",
   "execution_count": 6,
   "metadata": {
    "collapsed": false
   },
   "outputs": [
    {
     "data": {
      "text/plain": [
       "{'canno': '2007',\n",
       " 'caperture': '0',\n",
       " 'cbar_aperture': '',\n",
       " 'cbar_chiusure': '',\n",
       " 'cbar_ristoranti_aperture': '',\n",
       " 'cbar_ristoranti_chiusure': '',\n",
       " 'cbar_ristoranti_subingressi': '',\n",
       " 'cbar_ristoranti_totale': '',\n",
       " 'cbar_subingressi': '',\n",
       " 'cbar_totale': '',\n",
       " 'cchiusure': '0',\n",
       " 'ccomune': 'Acquapendente',\n",
       " 'cprovincia': 'VITERBO',\n",
       " 'cristoranti_aperture': '',\n",
       " 'cristoranti_chiusure': '',\n",
       " 'cristoranti_subingressi': '',\n",
       " 'cristoranti_totale': '',\n",
       " 'csubingressi': '1',\n",
       " 'ctotale': '32'}"
      ]
     },
     "execution_count": 6,
     "metadata": {},
     "output_type": "execute_result"
    }
   ],
   "source": [
    "dataset[0]"
   ]
  },
  {
   "cell_type": "markdown",
   "metadata": {},
   "source": [
    "## Storing data in a Document Database\n",
    "\n",
    "We now wish to store the contents of the dataset into a document database where each row becomes a separate document. We will use the [MongoDB](https://www.mongodb.com/what-is-mongodb) and the Database-as-a-service provider [mLab](https://mlab.com/).\n",
    "\n",
    "Using the web interface provided by mLab:\n",
    "1. Create a new account under mLab\n",
    "2. Create a new Database utilizing the 500MB sandbox provided by MLab without any charges.\n",
    "\n",
    "### Activate Data API Access\n",
    "\n",
    "We will access the mongoDB database provided by mLab through the [API (Application Programmers Interface)](http://docs.mlab.com/data-api/). To do so we need to enable the API access and acquire a API Key. Once again, through the web interface provided by mLab:\n",
    "\n",
    "1. Follow the link by clicking on your username, on the top-right of the main web page.\n",
    "2. Copy the API key provided by mLab account - this is unique for your account, \n",
    "3. Make sure that Data API access is enabled by clicking on the button *Enable Data API access*.\n",
    "\n",
    "Please note that mLab’s Data API uses [MongoDB Extended JSON in strict mode](https://docs.mongodb.com/v3.2/reference/mongodb-extended-json/) to encode queries and documents.\n",
    "\n",
    "\n",
    "### Create a new Database\n",
    "\n",
    "Now we need to create a new Database through the [mLab web UI wizard](https://mlab.com/create/wizard). \n",
    "\n",
    "1. Choose the SANDBOX plan type, which is free for storing up to 500MB of data and click on the button *Continue*.\n",
    "2. Choose the Region where the new database will be located (e.g., Europe) and click on the button *Continue*.\n",
    "3. Give a name to the database name (e.g., *adm*) and click on the button *Continue*.\n",
    "4. The final page displays the details of the new database. Click *Submit Order* to create the new database.\n",
    "\n",
    "\n",
    "### Simple operations via MongoDB Data API\n",
    "\n",
    "We start by using the API endpoint */Databases* to retrieve the databases linked to the authenticated account using [requests](http://docs.python-requests.org/en/master/#) python library for using the HTTP protocol in a simple and straight-forward way.\n",
    "\n",
    "**Make sure you replace your API key in the code below**"
   ]
  },
  {
   "cell_type": "code",
   "execution_count": 7,
   "metadata": {
    "collapsed": true
   },
   "outputs": [],
   "source": [
    "import requests\n",
    "\n",
    "params = {'apiKey': '<Paste your api key HERE>'}\n",
    "url = 'https://api.mlab.com/api/1/databases'\n",
    "response = requests.get(url, params)"
   ]
  },
  {
   "cell_type": "markdown",
   "metadata": {},
   "source": [
    "The [get](http://docs.python-requests.org/en/master/user/quickstart/#make-a-request) method is making an HTTP GET request passing the single parameter required by the particular API endpoint, that is the *apiKey*. \n",
    "\n",
    "If the HTTP request is completed successfully (the apiKey is correct, Data API access is enabled) the server will respond with 200 (OK)."
   ]
  },
  {
   "cell_type": "code",
   "execution_count": 8,
   "metadata": {
    "collapsed": false
   },
   "outputs": [
    {
     "data": {
      "text/plain": [
       "200"
      ]
     },
     "execution_count": 8,
     "metadata": {},
     "output_type": "execute_result"
    }
   ],
   "source": [
    "response.status_code"
   ]
  },
  {
   "cell_type": "markdown",
   "metadata": {},
   "source": [
    "We can access the contents of the result through the *text* element of the [response object](http://docs.python-requests.org/en/master/user/quickstart/#response-content)"
   ]
  },
  {
   "cell_type": "code",
   "execution_count": 19,
   "metadata": {
    "collapsed": false
   },
   "outputs": [
    {
     "data": {
      "text/plain": [
       "'[ \"adm\" , \"adm2017\" , \"ds\" , \"seed\" ]'"
      ]
     },
     "execution_count": 19,
     "metadata": {},
     "output_type": "execute_result"
    }
   ],
   "source": [
    "response.text"
   ]
  },
  {
   "cell_type": "markdown",
   "metadata": {
    "collapsed": true
   },
   "source": [
    "In this example we used the name *adm* for the new database. \n",
    "\n",
    "We can retrieve the available collections of the new database through the following API:"
   ]
  },
  {
   "cell_type": "code",
   "execution_count": 20,
   "metadata": {
    "collapsed": true
   },
   "outputs": [],
   "source": [
    "dbname = 'adm2017'\n",
    "url = 'https://api.mlab.com/api/1/databases/' + dbname + '/collections'\n",
    "response = requests.get(url, params)"
   ]
  },
  {
   "cell_type": "markdown",
   "metadata": {},
   "source": [
    "New database contain collections used by mongoDB."
   ]
  },
  {
   "cell_type": "code",
   "execution_count": 21,
   "metadata": {
    "collapsed": false
   },
   "outputs": [
    {
     "data": {
      "text/plain": [
       "'[ \"objectlabs-system\" , \"objectlabs-system.admin.collections\" , \"system.indexes\" ]'"
      ]
     },
     "execution_count": 21,
     "metadata": {},
     "output_type": "execute_result"
    }
   ],
   "source": [
    "response.text"
   ]
  },
  {
   "cell_type": "markdown",
   "metadata": {},
   "source": [
    "Creating a new collection is very simple. We just add a new document to the particular collection and it is ready. We do this making a *POST* request to the corresponding API endpoint. As soon as you POST your first document you should see the collection appear.\n",
    "\n",
    "Recall that mLab’s Data API uses [MongoDB Extended JSON in strict mode](https://docs.mongodb.com/v3.2/reference/mongodb-extended-json/) to encode queries and documents. So we will use the *dumps* method of JSON libray to convert the data into JSON format."
   ]
  },
  {
   "cell_type": "code",
   "execution_count": 22,
   "metadata": {
    "collapsed": true
   },
   "outputs": [],
   "source": [
    "collection = 'laziodata'\n",
    "url = 'https://api.mlab.com/api/1/databases/' + dbname + '/collections/' + collection\n",
    "headers = {'content-type': 'application/json'}\n",
    "data = json.dumps(dataset[0])\n",
    "response = requests.post(url, data=data, params=params, headers=headers)"
   ]
  },
  {
   "cell_type": "markdown",
   "metadata": {},
   "source": [
    "Given that the API call is complete successfully, the response will contain the record added along with a unique identity provided by mongoDB (under the field name *_id*). If you POST a document that contains an _id field, the effect will be to overwrite any existing document with that _id. "
   ]
  },
  {
   "cell_type": "code",
   "execution_count": 23,
   "metadata": {
    "collapsed": false
   },
   "outputs": [
    {
     "data": {
      "text/plain": [
       "'{ \"csubingressi\" : \"1\" , \"cbar_ristoranti_chiusure\" : \"\" , \"cbar_ristoranti_aperture\" : \"\" , \"ctotale\" : \"32\" , \"cbar_ristoranti_subingressi\" : \"\" , \"cprovincia\" : \"VITERBO\" , \"cristoranti_subingressi\" : \"\" , \"ccomune\" : \"Acquapendente\" , \"canno\" : \"2007\" , \"cristoranti_totale\" : \"\" , \"cristoranti_chiusure\" : \"\" , \"cbar_chiusure\" : \"\" , \"cbar_totale\" : \"\" , \"cchiusure\" : \"0\" , \"cristoranti_aperture\" : \"\" , \"cbar_aperture\" : \"\" , \"cbar_ristoranti_totale\" : \"\" , \"caperture\" : \"0\" , \"cbar_subingressi\" : \"\" , \"_id\" : { \"$oid\" : \"59fa1b26c2ef162f47efffe3\"}}'"
      ]
     },
     "execution_count": 23,
     "metadata": {},
     "output_type": "execute_result"
    }
   ],
   "source": [
    "response.text"
   ]
  },
  {
   "cell_type": "markdown",
   "metadata": {},
   "source": [
    "### Insert multiple documents\n",
    "\n",
    "For inserting multiple documents we can make one API call containing multiple records."
   ]
  },
  {
   "cell_type": "code",
   "execution_count": 34,
   "metadata": {
    "collapsed": true
   },
   "outputs": [],
   "source": [
    "data = json.dumps(dataset[1:10])\n",
    "response = requests.post(url, data=data, params=params, headers=headers)"
   ]
  },
  {
   "cell_type": "markdown",
   "metadata": {},
   "source": [
    "Given that the API call is complete successfully, the response will contain the number of records added. "
   ]
  },
  {
   "cell_type": "code",
   "execution_count": 25,
   "metadata": {
    "collapsed": false
   },
   "outputs": [
    {
     "data": {
      "text/plain": [
       "'{ \"n\" : 9}'"
      ]
     },
     "execution_count": 25,
     "metadata": {},
     "output_type": "execute_result"
    }
   ],
   "source": [
    "response.text"
   ]
  },
  {
   "cell_type": "markdown",
   "metadata": {},
   "source": [
    "#### Exercise\n",
    "* Upload all the remaining records of the dataset to the collection."
   ]
  },
  {
   "cell_type": "markdown",
   "metadata": {},
   "source": [
    "### Query for documents\n",
    "\n",
    "To get the documents in the specified collection we use the *List Documents* API endpoint. If no parameters are passed, it lists all of them. Otherwise, it lists the documents in the collection matching the specified parameters:\n",
    "* q=<query> - restrict results by the specified JSON query\n",
    "* c=true - return the result count for this query\n",
    "* f=<set of fields> - specify the set of fields to include or exclude in each document (1 - include; 0 - exclude)\n",
    "* fo=true - return a single document from the result set (same as findOne() using the mongo shell\n",
    "* s=<sort order> - specify the order in which to sort each specified field (1- ascending; -1 - descending)\n",
    "* sk=<num results to skip> - specify the number of results to skip in the result set; useful for paging\n",
    "* l=<limit> - specify the limit for the number of results (default is 1000)\n",
    "\n",
    "As an example let's retrieve the data that are related to the VITERBO province. We will use the *q* parameter to encode our query into a [query filter document](https://docs.mongodb.com/v3.2/core/document/#document-query-filter). Lookup the [documentation](https://docs.mongodb.com/v3.2/reference/operator/query/) for a detailed syntax of the query selectors.\n",
    "\n",
    "In our example we wish to list all documents where the field \"cprovincia\" is \"VITERBO\". This is also encouded in JSON as follows:\n",
    "\n",
    " {\"cprovincia\": \"VITERBO\"}"
   ]
  },
  {
   "cell_type": "code",
   "execution_count": 35,
   "metadata": {
    "collapsed": true
   },
   "outputs": [],
   "source": [
    "query = {\"cprovincia\": \"VITERBO\"}"
   ]
  },
  {
   "cell_type": "code",
   "execution_count": 36,
   "metadata": {
    "collapsed": false
   },
   "outputs": [],
   "source": [
    "params['q'] = json.dumps(query)\n",
    "response = requests.get(url, params=params)"
   ]
  },
  {
   "cell_type": "markdown",
   "metadata": {},
   "source": [
    "The records that match the query are returned in JSON format. "
   ]
  },
  {
   "cell_type": "code",
   "execution_count": 37,
   "metadata": {
    "collapsed": true
   },
   "outputs": [],
   "source": [
    "retrievedData = json.loads(response.text)"
   ]
  },
  {
   "cell_type": "code",
   "execution_count": 38,
   "metadata": {
    "collapsed": false
   },
   "outputs": [
    {
     "data": {
      "text/plain": [
       "420"
      ]
     },
     "execution_count": 38,
     "metadata": {},
     "output_type": "execute_result"
    }
   ],
   "source": [
    "len(retrievedData)"
   ]
  },
  {
   "cell_type": "markdown",
   "metadata": {},
   "source": [
    "We can narrow down the documents further by extending the query to a specific *ccomune*"
   ]
  },
  {
   "cell_type": "code",
   "execution_count": 39,
   "metadata": {
    "collapsed": true
   },
   "outputs": [],
   "source": [
    "query = {\"cprovincia\": \"VITERBO\", \"ccomune\": \"Vitorchiano\"}\n",
    "params['q'] = json.dumps(query)\n",
    "response = requests.get(url, params=params)"
   ]
  },
  {
   "cell_type": "code",
   "execution_count": 40,
   "metadata": {
    "collapsed": true
   },
   "outputs": [],
   "source": [
    "retrievedData = json.loads(response.text)"
   ]
  },
  {
   "cell_type": "code",
   "execution_count": 41,
   "metadata": {
    "collapsed": false
   },
   "outputs": [
    {
     "data": {
      "text/plain": [
       "7"
      ]
     },
     "execution_count": 41,
     "metadata": {},
     "output_type": "execute_result"
    }
   ],
   "source": [
    "len(retrievedData)"
   ]
  },
  {
   "cell_type": "markdown",
   "metadata": {},
   "source": [
    "### Update Documents\n",
    "\n",
    "To update one or more documents in the specified collection, use a PUT request with a replacement document or update modifiers in the body (for more details see [MongoDB reference](https://docs.mongodb.com/v3.2/crud/#write-op-update)).\n",
    "\n",
    "Once again we use the Query mechanism to narrow down the number of documents that will be updated.\n",
    "\n",
    "In this example we wish to modify the 1st record from the data we just retrieved from the previous command by completely replacing the record."
   ]
  },
  {
   "cell_type": "code",
   "execution_count": 42,
   "metadata": {
    "collapsed": false
   },
   "outputs": [
    {
     "data": {
      "text/plain": [
       "{'$oid': '59fa1b4dbd966f490aa55239'}"
      ]
     },
     "execution_count": 42,
     "metadata": {},
     "output_type": "execute_result"
    }
   ],
   "source": [
    "retrievedData[0]['_id']"
   ]
  },
  {
   "cell_type": "markdown",
   "metadata": {},
   "source": [
    "For the example we will change the cbar_totale value to '0'. "
   ]
  },
  {
   "cell_type": "code",
   "execution_count": 43,
   "metadata": {
    "collapsed": true
   },
   "outputs": [],
   "source": [
    "retrievedData[0]['cbar_totale'] = 0"
   ]
  },
  {
   "cell_type": "code",
   "execution_count": 44,
   "metadata": {
    "collapsed": true
   },
   "outputs": [],
   "source": [
    "query = {\"_id\": retrievedData[0]['_id']}\n",
    "params['q'] = json.dumps(query)\n",
    "data = json.dumps(retrievedData[0])\n",
    "response = requests.post(url, data=data, params=params, headers=headers)"
   ]
  },
  {
   "cell_type": "markdown",
   "metadata": {},
   "source": [
    "The API call returns the new contents of the document"
   ]
  },
  {
   "cell_type": "code",
   "execution_count": 45,
   "metadata": {
    "collapsed": false
   },
   "outputs": [
    {
     "data": {
      "text/plain": [
       "'{ \"ctotale\" : \"16\" , \"_id\" : { \"$oid\" : \"59fa1b4dbd966f490aa55239\"} , \"cbar_ristoranti_aperture\" : \"\" , \"csubingressi\" : \"1\" , \"cprovincia\" : \"VITERBO\" , \"cristoranti_subingressi\" : \"\" , \"ccomune\" : \"Vitorchiano\" , \"canno\" : \"2007\" , \"cchiusure\" : \"1\" , \"cbar_ristoranti_totale\" : \"\" , \"cbar_ristoranti_subingressi\" : \"\" , \"cbar_chiusure\" : \"\" , \"cristoranti_totale\" : \"\" , \"cbar_subingressi\" : \"\" , \"cbar_aperture\" : \"\" , \"cristoranti_aperture\" : \"\" , \"cbar_totale\" : 0 , \"cbar_ristoranti_chiusure\" : \"\" , \"caperture\" : \"0\" , \"cristoranti_chiusure\" : \"\"}'"
      ]
     },
     "execution_count": 45,
     "metadata": {},
     "output_type": "execute_result"
    }
   ],
   "source": [
    "response.text"
   ]
  },
  {
   "cell_type": "markdown",
   "metadata": {},
   "source": [
    "### Retrieve Specific Document\n",
    "\n",
    "We can retrieve a document directly based on it's unique id."
   ]
  },
  {
   "cell_type": "code",
   "execution_count": 46,
   "metadata": {
    "collapsed": true
   },
   "outputs": [],
   "source": [
    "url = 'https://api.mlab.com/api/1/databases/' + dbname + '/collections/' + collection + \"/\" + retrievedData[0]['_id'][\"$oid\"]"
   ]
  },
  {
   "cell_type": "code",
   "execution_count": 47,
   "metadata": {
    "collapsed": false
   },
   "outputs": [],
   "source": [
    "params.pop(\"query\", None)"
   ]
  },
  {
   "cell_type": "code",
   "execution_count": 48,
   "metadata": {
    "collapsed": true
   },
   "outputs": [],
   "source": [
    "response = requests.get(url, params=params)"
   ]
  },
  {
   "cell_type": "code",
   "execution_count": 49,
   "metadata": {
    "collapsed": false
   },
   "outputs": [
    {
     "data": {
      "text/plain": [
       "'{ \"_id\" : { \"$oid\" : \"59fa1b4dbd966f490aa55239\"} , \"ctotale\" : \"16\" , \"cbar_ristoranti_aperture\" : \"\" , \"csubingressi\" : \"1\" , \"cprovincia\" : \"VITERBO\" , \"cristoranti_subingressi\" : \"\" , \"ccomune\" : \"Vitorchiano\" , \"canno\" : \"2007\" , \"cchiusure\" : \"1\" , \"cbar_ristoranti_totale\" : \"\" , \"cbar_ristoranti_subingressi\" : \"\" , \"cbar_chiusure\" : \"\" , \"cristoranti_totale\" : \"\" , \"cbar_subingressi\" : \"\" , \"cbar_aperture\" : \"\" , \"cristoranti_aperture\" : \"\" , \"cbar_totale\" : 0 , \"cbar_ristoranti_chiusure\" : \"\" , \"caperture\" : \"0\" , \"cristoranti_chiusure\" : \"\"}'"
      ]
     },
     "execution_count": 49,
     "metadata": {},
     "output_type": "execute_result"
    }
   ],
   "source": [
    "response.text"
   ]
  },
  {
   "cell_type": "markdown",
   "metadata": {},
   "source": [
    "### Delete Specific Document\n",
    "\n",
    "We can delete a document directly based on it's unique id by making a DELETE request."
   ]
  },
  {
   "cell_type": "code",
   "execution_count": 50,
   "metadata": {
    "collapsed": true
   },
   "outputs": [],
   "source": [
    "response = requests.delete(url, params=params)"
   ]
  },
  {
   "cell_type": "code",
   "execution_count": 51,
   "metadata": {
    "collapsed": false
   },
   "outputs": [
    {
     "data": {
      "text/plain": [
       "'{ \"_id\" : { \"$oid\" : \"59fa1b4dbd966f490aa55239\"} , \"ctotale\" : \"16\" , \"cbar_ristoranti_aperture\" : \"\" , \"csubingressi\" : \"1\" , \"cprovincia\" : \"VITERBO\" , \"cristoranti_subingressi\" : \"\" , \"ccomune\" : \"Vitorchiano\" , \"canno\" : \"2007\" , \"cchiusure\" : \"1\" , \"cbar_ristoranti_totale\" : \"\" , \"cbar_ristoranti_subingressi\" : \"\" , \"cbar_chiusure\" : \"\" , \"cristoranti_totale\" : \"\" , \"cbar_subingressi\" : \"\" , \"cbar_aperture\" : \"\" , \"cristoranti_aperture\" : \"\" , \"cbar_totale\" : 0 , \"cbar_ristoranti_chiusure\" : \"\" , \"caperture\" : \"0\" , \"cristoranti_chiusure\" : \"\"}'"
      ]
     },
     "execution_count": 51,
     "metadata": {},
     "output_type": "execute_result"
    }
   ],
   "source": [
    "response.text"
   ]
  },
  {
   "cell_type": "code",
   "execution_count": 52,
   "metadata": {
    "collapsed": true
   },
   "outputs": [],
   "source": [
    "response = requests.get(url, params=params)"
   ]
  },
  {
   "cell_type": "code",
   "execution_count": 53,
   "metadata": {
    "collapsed": false
   },
   "outputs": [
    {
     "data": {
      "text/plain": [
       "'{ \"message\" : \"Document not found\"}\\n'"
      ]
     },
     "execution_count": 53,
     "metadata": {},
     "output_type": "execute_result"
    }
   ],
   "source": [
    "response.text"
   ]
  }
 ],
 "metadata": {
  "kernelspec": {
   "display_name": "Python 3",
   "language": "python",
   "name": "python3"
  },
  "language_info": {
   "codemirror_mode": {
    "name": "ipython",
    "version": 3
   },
   "file_extension": ".py",
   "mimetype": "text/x-python",
   "name": "python",
   "nbconvert_exporter": "python",
   "pygments_lexer": "ipython3",
   "version": "3.5.2"
  }
 },
 "nbformat": 4,
 "nbformat_minor": 1
}
