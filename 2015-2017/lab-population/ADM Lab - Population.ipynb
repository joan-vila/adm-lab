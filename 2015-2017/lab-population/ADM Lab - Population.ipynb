{
 "cells": [
  {
   "cell_type": "markdown",
   "metadata": {
    "collapsed": true
   },
   "source": [
    "We will work with the data provided by the [Open Data portal of the City of Rome](http://dati.comune.roma.it/). \n",
    "We use datasets related to registered population from other countries based on country of origin, sex and place of residence which is available for the years 2014, 2013 and 2012. In particular we will work with the following three sets available in CSV format (using semicolons as delimiter):\n",
    "* [Popolazione straniera iscritta in anagrafe per municipio, sesso e cittadinanza. Al 31-12-2014](http://dati.comune.roma.it/cms/it/dettaglio_pop_e_societa.page?contentId=DTS542)\n",
    "* [Popolazione straniera iscritta in anagrafe per municipio, sesso e cittadinanza. Al 31-12-2013](http://dati.comune.roma.it/cms/it/dettaglio_pop_e_societa.page?contentId=DTS725)\n",
    "* [Popolazione straniera iscritta in anagrafe per municipio, sesso e cittadinanza. Al 31-12-2012](http://dati.comune.roma.it/cms/it/dettaglio_pop_e_societa.page?contentId=DTS728)\n",
    "\n",
    "All three datasets share the same format:\n",
    "- Country of Origin\n",
    "- Continent\n",
    "- For each Municipio of Rome (the city is devided in 15 administrative regions) a breakdown\n",
    " * Males (M)\n",
    " * Females (F)\n",
    " * Total (MF)\n",
    "- The total population (over all administrative regions) divided in\n",
    " * Males (M)\n",
    " * Females (F)\n",
    " * Total (MF)\n",
    " \n",
    "### Access Datasets & Store in local filesystem\n",
    " \n",
    "We start by retrieving the dataset directly from the web using [urllib](https://docs.python.org/3/library/urllib.html) method from the standard python library.\n",
    "\n",
    "We can acquire the url of the file by using our favorite browser and doing a right-click on the image \"Download CSV\"."
   ]
  },
  {
   "cell_type": "code",
   "execution_count": 1,
   "metadata": {
    "collapsed": true
   },
   "outputs": [],
   "source": [
    "import urllib.request\n",
    "url = 'http://dati.comune.roma.it/cms/do/jacms/Content/incrementDownload.action?contentId=DTS542&filename=popolazione_straniera_iscritta_in_anagrafe_per_municipio_e_sesso_e_cittadinanza_al_31_dicembre_20145ee4.csv'\n",
    "u = urllib.request.urlopen(url)\n",
    "rawdata = u.read()"
   ]
  },
  {
   "cell_type": "markdown",
   "metadata": {},
   "source": [
    "We wish to store the information retrieved to a local file so that we can work with the data without the need to re-download again and again. \n",
    "\n",
    "So now we work a bit more with files, this time we will create a new file and _write_ data in the file. For a nice introduction to using files in python and how to read & write files, you can follow the [Introduction to Data Processing with Python](http://opentechschool.github.io/python-data-intro/core/text-files.html).\n",
    "\n",
    "Notice that the _open_ method has a second parameter \"wb\" - \"w\" stands for _write_ and \"b\" stands for _binary_."
   ]
  },
  {
   "cell_type": "code",
   "execution_count": 2,
   "metadata": {
    "collapsed": true
   },
   "outputs": [],
   "source": [
    "localFile = open(\"rome-2014.csv\", \"wb\")\n",
    "localFile.write(rawdata)\n",
    "localFile.close()"
   ]
  },
  {
   "cell_type": "markdown",
   "metadata": {},
   "source": [
    "#### Exercise\n",
    "* Download the datasets for 2013 and 2012 and save them to local files. "
   ]
  },
  {
   "cell_type": "markdown",
   "metadata": {},
   "source": [
    "### Load Datasets in CSV format\n",
    "\n",
    "The files retrieved follows a comma-separated format. \n",
    "\n",
    "We will use the [CSVREADER](https://docs.python.org/2/library/csv.html) a standard python package as explained in [Reading and writing comma-separated data](http://opentechschool.github.io/python-data-intro/core/csv.html). \n",
    "\n",
    "We load all the contents of the file into a [list data structure](https://docs.python.org/3/tutorial/datastructures.html) named *dataset2014*."
   ]
  },
  {
   "cell_type": "code",
   "execution_count": 17,
   "metadata": {
    "collapsed": false
   },
   "outputs": [],
   "source": [
    "import csv\n",
    "f = open(\"rome-2014.csv\")\n",
    "rawdata2014 = []\n",
    "for row in csv.reader(f, delimiter=';'):\n",
    "    rawdata2014.append(row)"
   ]
  },
  {
   "cell_type": "markdown",
   "metadata": {},
   "source": [
    "The first 5 rows of the file contain the header rows (title, column titles). You can check out how it looks with the following command:"
   ]
  },
  {
   "cell_type": "code",
   "execution_count": null,
   "metadata": {
    "collapsed": false
   },
   "outputs": [],
   "source": [
    "rawdata2014[0:5]"
   ]
  },
  {
   "cell_type": "markdown",
   "metadata": {},
   "source": [
    "The last 5 rows of the file contain the footer rows (grand total, some empty lines and the name of the department responsible for the generation of the dataset). You can check out how it looks with the following command:"
   ]
  },
  {
   "cell_type": "code",
   "execution_count": null,
   "metadata": {
    "collapsed": false
   },
   "outputs": [],
   "source": [
    "rawdata2014[-5:]"
   ]
  },
  {
   "cell_type": "markdown",
   "metadata": {},
   "source": [
    "We will remove the header and footer parts and keep only the actual data into a new list named *dataset2014*."
   ]
  },
  {
   "cell_type": "code",
   "execution_count": 18,
   "metadata": {
    "collapsed": true
   },
   "outputs": [],
   "source": [
    "dataset2014 = rawdata2014[5:-5]"
   ]
  },
  {
   "cell_type": "markdown",
   "metadata": {},
   "source": [
    "Check out how data look like in the table that we just created."
   ]
  },
  {
   "cell_type": "code",
   "execution_count": 5,
   "metadata": {
    "collapsed": false
   },
   "outputs": [
    {
     "data": {
      "text/plain": [
       "['ROMANIA',\n",
       " 'EUROPA COMUNITARIA',\n",
       " '1.537',\n",
       " '2.135',\n",
       " '3.672',\n",
       " '411',\n",
       " '1.864',\n",
       " '2.275',\n",
       " '1.079',\n",
       " '2.070',\n",
       " '3.149',\n",
       " '1.547',\n",
       " '2.070',\n",
       " '3.617',\n",
       " '3.131',\n",
       " '4.415',\n",
       " '7.546',\n",
       " '11.132',\n",
       " '10.870',\n",
       " '22.002',\n",
       " '2.339',\n",
       " '3.814',\n",
       " '6.153',\n",
       " '521',\n",
       " '1.343',\n",
       " '1.864',\n",
       " '1.624',\n",
       " '2.352',\n",
       " '3.976',\n",
       " '4.159',\n",
       " '4.943',\n",
       " '9.102',\n",
       " '2.439',\n",
       " '2.990',\n",
       " '5.429',\n",
       " '1.168',\n",
       " '2.003',\n",
       " '3.171',\n",
       " '1.821',\n",
       " '2.346',\n",
       " '4.167',\n",
       " '1.873',\n",
       " '2.784',\n",
       " '4.657',\n",
       " '3.295',\n",
       " '4.293',\n",
       " '7.588',\n",
       " '10',\n",
       " '6',\n",
       " '16',\n",
       " '38.086',\n",
       " '50.298',\n",
       " '88.384']"
      ]
     },
     "execution_count": 5,
     "metadata": {},
     "output_type": "execute_result"
    }
   ],
   "source": [
    "dataset2014[0]"
   ]
  },
  {
   "cell_type": "markdown",
   "metadata": {},
   "source": [
    "Depending on the locale used, it is usual that the CSV library will not recognise the numbers properly and load them as text (they are within single quotes). We need to do some basic reformatting to convert them to numbers. The main issue hese is that the numbers use a dot ('.') as separator for thousands rather than a comma (','). "
   ]
  },
  {
   "cell_type": "code",
   "execution_count": 19,
   "metadata": {
    "collapsed": false
   },
   "outputs": [],
   "source": [
    "for row in dataset2014:\n",
    "    for value in range(2, len(row)):\n",
    "        row[value] = int(row[value].replace('.',''))"
   ]
  },
  {
   "cell_type": "markdown",
   "metadata": {},
   "source": [
    "#### Exercise\n",
    "* Load the datasets for 2013 and 2012. \n",
    "\n",
    "**Note:** Although the datasets of the other years are the same, the have slightly different header and footer sections."
   ]
  },
  {
   "cell_type": "markdown",
   "metadata": {},
   "source": [
    "### Sorting Data\n",
    "\n",
    "We are now in a position to [sort the data](https://docs.python.org/3/howto/sorting.html) based on the different columns. A simple invocation of the *sort* function will sort the rows of the table based on the contents of the 1st column (that is the name of the country of origin)."
   ]
  },
  {
   "cell_type": "code",
   "execution_count": null,
   "metadata": {
    "collapsed": false
   },
   "outputs": [],
   "source": [
    "dataset2014.sort()"
   ]
  },
  {
   "cell_type": "markdown",
   "metadata": {},
   "source": [
    "To sort using another column as key we will work with [lambda functions](https://docs.python.org/3/reference/expressions.html#lambda). In the following example we will sort the data based on the total population in the 1st municipio (that is the 5th column)"
   ]
  },
  {
   "cell_type": "code",
   "execution_count": null,
   "metadata": {
    "collapsed": false
   },
   "outputs": [],
   "source": [
    "dataset2014.sort(key=lambda x: x[4])"
   ]
  },
  {
   "cell_type": "markdown",
   "metadata": {},
   "source": [
    "To sort the data using the last column - that is the total population - we use the following code:"
   ]
  },
  {
   "cell_type": "code",
   "execution_count": null,
   "metadata": {
    "collapsed": true
   },
   "outputs": [],
   "source": [
    "dataset2014.sort(key=lambda x: x[len(x)-1])"
   ]
  },
  {
   "cell_type": "markdown",
   "metadata": {},
   "source": [
    "#### Exercise\n",
    "* Sort the data based on the total population, in descrending order (i.e., country-of-origin with largest population should appear first)"
   ]
  },
  {
   "cell_type": "markdown",
   "metadata": {},
   "source": [
    "### Combine Datasets\n",
    "We now wish to combine the 3 datasets into a single data structure. We will use a [dictionary](https://docs.python.org/3/tutorial/datastructures.html#dictionaries) to store the values, using as key the country of origin. "
   ]
  },
  {
   "cell_type": "code",
   "execution_count": 24,
   "metadata": {
    "collapsed": false
   },
   "outputs": [],
   "source": [
    "datadict={}"
   ]
  },
  {
   "cell_type": "markdown",
   "metadata": {},
   "source": [
    "The value of each entry will contain a nested dictionary based on the following keys:\n",
    "* 2014 - the total population for 2014 \n",
    "* 2014-M - the total male population for 2014\n",
    "* 2014-F - the total female population for 2014\n",
    "* 2014-1 - the total population for 2014 for the 1st municipio\n",
    "* 2014-1M - the total male population for 2014 for the 1st municipio\n",
    "* 2014-1F - the total female population for 2014 for the 1st municipio\n",
    "* ...\n",
    "\n",
    "Notice how we concatenate the string and the number in order to construct the key for the nested dictionary using the str() function."
   ]
  },
  {
   "cell_type": "code",
   "execution_count": 25,
   "metadata": {
    "collapsed": false
   },
   "outputs": [],
   "source": [
    "for row in dataset2014:\n",
    "    name = row[0]\n",
    "    valuedict = {}\n",
    "    valuedict[2014] = row[len(row) - 1]    \n",
    "    valuedict[\"2014-F\"] = row[len(row) - 2]\n",
    "    valuedict[\"2014-M\"] = row[len(row) - 3]\n",
    "    for municipio in range(1,16):\n",
    "        valuedict[\"2014-\" + str(municipio) + \"M\"] = row[municipio*3 - 1]\n",
    "        valuedict[\"2014-\" + str(municipio) + \"F\"] = row[municipio*3]\n",
    "        valuedict[\"2014-\" + str(municipio)] = row[municipio*3 + 1]        \n",
    "            \n",
    "    datadict[name] = valuedict"
   ]
  },
  {
   "cell_type": "markdown",
   "metadata": {},
   "source": [
    "Based on this structure we can directly access a specific item using the above keys. The following example will retrieve the number of females with greek origin that liv in the 7th municipio of Rome."
   ]
  },
  {
   "cell_type": "code",
   "execution_count": 26,
   "metadata": {
    "collapsed": false
   },
   "outputs": [
    {
     "data": {
      "text/plain": [
       "34"
      ]
     },
     "execution_count": 26,
     "metadata": {},
     "output_type": "execute_result"
    }
   ],
   "source": [
    "datadict[\"GRECIA\"][\"2014-7F\"]"
   ]
  },
  {
   "cell_type": "markdown",
   "metadata": {},
   "source": [
    "We will now extend the dictionary to also include the values from 2013. We need to make sure that in the 2013 dataset some countries of origin may be missing (no people from that country lived in Rome during 2013)."
   ]
  },
  {
   "cell_type": "code",
   "execution_count": 28,
   "metadata": {
    "collapsed": false
   },
   "outputs": [],
   "source": [
    "for row in dataset2013:\n",
    "    name = row[0]\n",
    "\n",
    "    valuedict = {}\n",
    "    if not (name in datadict):\n",
    "        # Country does not exist, initialize 2014 keys with 0 values\n",
    "        valuedict[2014] = 0\n",
    "        valuedict[\"2014-F\"] = 0\n",
    "        valuedict[\"2014-M\"] = 0\n",
    "        for municipio in range(1,16):\n",
    "            valuedict[\"2014-\" + str(municipio) + \"M\"] = 0\n",
    "            valuedict[\"2014-\" + str(municipio) + \"F\"] = 0\n",
    "            valuedict[\"2014-\" + str(municipio)] = 0    \n",
    "    \n",
    "        datadict[name] = valuedict\n",
    "    else:\n",
    "        valuedict = datadict[name]\n",
    "    \n",
    "    valuedict[2013] = row[len(row) - 1]    \n",
    "    valuedict[\"2013-F\"] = row[len(row) - 2]\n",
    "    valuedict[\"2013-M\"] = row[len(row) - 3]\n",
    "    for municipio in range(1,16):\n",
    "        valuedict[\"2013-\" + str(municipio) + \"M\"] = row[municipio*3 - 1]\n",
    "        valuedict[\"2013-\" + str(municipio) + \"F\"] = row[municipio*3]\n",
    "        valuedict[\"2013-\" + str(municipio)] = row[municipio*3 + 1]    "
   ]
  },
  {
   "cell_type": "markdown",
   "metadata": {},
   "source": [
    "Similarly maybe a country of origin appearing in the 2013 datase is no longer represented in 2014 (all people left Rome)."
   ]
  },
  {
   "cell_type": "code",
   "execution_count": 15,
   "metadata": {
    "collapsed": false
   },
   "outputs": [],
   "source": [
    "for key, valuedict in datadict.items():    \n",
    "    if not 2013 in valuedict:\n",
    "        valuedict[2013] = 0\n",
    "        valuedict[\"2013-F\"] = 0\n",
    "        valuedict[\"2013-M\"] = 0\n",
    "        for municipio in range(1,16):\n",
    "            valuedict[\"2013-\" + str(municipio) + \"M\"] = 0\n",
    "            valuedict[\"2013-\" + str(municipio) + \"F\"] = 0\n",
    "            valuedict[\"2013-\" + str(municipio)] = 0             "
   ]
  },
  {
   "cell_type": "markdown",
   "metadata": {},
   "source": [
    "#### Exercise\n",
    "* Repeat the above procedure also for 2012."
   ]
  },
  {
   "cell_type": "markdown",
   "metadata": {},
   "source": [
    "### Statistics over Combined Datasets\n",
    "Given the two-level dictionary data structure that we just constructed we are ready to do easily compute annual statistics."
   ]
  },
  {
   "cell_type": "code",
   "execution_count": 29,
   "metadata": {
    "collapsed": false
   },
   "outputs": [
    {
     "name": "stdout",
     "output_type": "stream",
     "text": [
      "Growth from 2013 to 2014: -145\n",
      "Growth from 2012 to 2014: -1634\n"
     ]
    }
   ],
   "source": [
    "print(\"Growth from 2013 to 2014:\", datadict[\"GRECIA\"][2014] - datadict[\"GRECIA\"][2013])\n",
    "print(\"Growth from 2012 to 2014:\", datadict[\"GRECIA\"][2014] - datadict[\"GRECIA\"][2012])"
   ]
  },
  {
   "cell_type": "markdown",
   "metadata": {},
   "source": [
    "We will compute the growth for each country of origin and store it within the 2nd level dictionary using the following keys:\n",
    "* \"2014-2013-diff\" - the absolute difference in population between the two years.\n",
    "* \"2014-2013-growth\" - the growth between the two years as a percentage."
   ]
  },
  {
   "cell_type": "code",
   "execution_count": null,
   "metadata": {
    "collapsed": false
   },
   "outputs": [],
   "source": [
    "for (key, value) in datadict.items():\n",
    "    value[\"2014-2013-diff\"] = value[2014] - value[2013]\n",
    "    if (value[2013] == 0):\n",
    "        value[\"2014-2013-growth\"] = -1\n",
    "    else:\n",
    "        value[\"2014-2013-growth\"] = (value[2014] - value[2013])/ value[2013]"
   ]
  },
  {
   "cell_type": "markdown",
   "metadata": {},
   "source": [
    "#### Exercise\n",
    "* Repeat the above procedure also for 2012.\n",
    "* Compute the statistics for all the other categories included in the datasets."
   ]
  },
  {
   "cell_type": "markdown",
   "metadata": {},
   "source": [
    "We can now directly retrieve the values without repeating any computation."
   ]
  },
  {
   "cell_type": "code",
   "execution_count": null,
   "metadata": {
    "collapsed": false
   },
   "outputs": [],
   "source": [
    "print(\"Population change from 2013 to 2014:\", datadict[\"GRECIA\"][\"2014-2013-diff\"])\n",
    "print(\"Population change as percentage from 2013 to 2014:\", '{0:.2f}%'.format(100 * datadict[\"GRECIA\"][\"2014-2013-growth\"]))"
   ]
  },
  {
   "cell_type": "markdown",
   "metadata": {},
   "source": [
    "#### Exercise\n",
    "* Identify country of origin with the highest increase from 2013 to 2014, from 2012 to 2014.\n",
    "* Identify country of origin with the highest decrease from 2013 to 2014, from 2012 to 2014.\n",
    "* Identify municipio with the highest increase (over all countries of origin) from 2013 to 2014, from 2012 to 2014.\n",
    "* Identify municipio with the highest decrease (over all countries of origin) from 2013 to 2014, from 2012 to 2014."
   ]
  }
 ],
 "metadata": {
  "kernelspec": {
   "display_name": "Python 3",
   "language": "python",
   "name": "python3"
  },
  "language_info": {
   "codemirror_mode": {
    "name": "ipython",
    "version": 3
   },
   "file_extension": ".py",
   "mimetype": "text/x-python",
   "name": "python",
   "nbconvert_exporter": "python",
   "pygments_lexer": "ipython3",
   "version": "3.5.2"
  }
 },
 "nbformat": 4,
 "nbformat_minor": 0
}
