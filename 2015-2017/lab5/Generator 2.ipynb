{
 "cells": [
  {
   "cell_type": "code",
   "execution_count": 7,
   "metadata": {
    "collapsed": false
   },
   "outputs": [],
   "source": [
    "import networkx as nx\n",
    "import matplotlib.pyplot as plt\n",
    "\n",
    "G=nx.karate_club_graph()\n",
    "\n",
    "plt.clf()\n",
    "nx.draw(G)\n",
    "plt.savefig(\"karate.png\")"
   ]
  },
  {
   "cell_type": "code",
   "execution_count": 8,
   "metadata": {
    "collapsed": false
   },
   "outputs": [
    {
     "name": "stdout",
     "output_type": "stream",
     "text": [
      "Node Degree\n",
      "0 16\n",
      "1 9\n",
      "2 10\n",
      "3 6\n",
      "4 3\n",
      "5 4\n",
      "6 4\n",
      "7 4\n",
      "8 5\n",
      "9 2\n",
      "10 3\n",
      "11 1\n",
      "12 2\n",
      "13 5\n",
      "14 2\n",
      "15 2\n",
      "16 2\n",
      "17 2\n",
      "18 2\n",
      "19 3\n",
      "20 2\n",
      "21 2\n",
      "22 2\n",
      "23 5\n",
      "24 3\n",
      "25 3\n",
      "26 2\n",
      "27 4\n",
      "28 3\n",
      "29 4\n",
      "30 4\n",
      "31 6\n",
      "32 12\n",
      "33 17\n"
     ]
    }
   ],
   "source": [
    "print(\"Node Degree\")\n",
    "for v in G:\n",
    "    print('%s %s' % (v,G.degree(v)))"
   ]
  },
  {
   "cell_type": "code",
   "execution_count": 10,
   "metadata": {
    "collapsed": false
   },
   "outputs": [
    {
     "name": "stdout",
     "output_type": "stream",
     "text": [
      "Degree histogram\n",
      "degree (#nodes) ****\n",
      " 0 ( 0) \n",
      " 1 ( 1) *\n",
      " 2 (11) ***********\n",
      " 3 ( 6) ******\n",
      " 4 ( 6) ******\n",
      " 5 ( 3) ***\n",
      " 6 ( 2) **\n",
      " 7 ( 0) \n",
      " 8 ( 0) \n",
      " 9 ( 1) *\n",
      "10 ( 1) *\n",
      "11 ( 0) \n",
      "12 ( 1) *\n",
      "13 ( 0) \n",
      "14 ( 0) \n",
      "15 ( 0) \n",
      "16 ( 1) *\n",
      "17 ( 1) *\n"
     ]
    }
   ],
   "source": [
    "print(\"Degree histogram\")\n",
    "print(\"degree (#nodes) ****\")\n",
    "dh=nx.degree_histogram(G)\n",
    "low=min(nx.degree(G))\n",
    "for i in range(low,len(dh)):\n",
    "    bar=''.join(dh[i]*['*'])\n",
    "    print(\"%2s (%2s) %s\"%(i,dh[i],bar))"
   ]
  },
  {
   "cell_type": "code",
   "execution_count": null,
   "metadata": {
    "collapsed": true
   },
   "outputs": [],
   "source": []
  }
 ],
 "metadata": {
  "kernelspec": {
   "display_name": "Python 3",
   "language": "python",
   "name": "python3"
  },
  "language_info": {
   "codemirror_mode": {
    "name": "ipython",
    "version": 3
   },
   "file_extension": ".py",
   "mimetype": "text/x-python",
   "name": "python",
   "nbconvert_exporter": "python",
   "pygments_lexer": "ipython3",
   "version": "3.4.3"
  }
 },
 "nbformat": 4,
 "nbformat_minor": 0
}
