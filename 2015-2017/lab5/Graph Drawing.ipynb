{
 "cells": [
  {
   "cell_type": "code",
   "execution_count": null,
   "metadata": {
    "collapsed": false
   },
   "outputs": [],
   "source": [
    "import networkx as nx\n",
    "import matplotlib.pyplot as plt"
   ]
  },
  {
   "cell_type": "code",
   "execution_count": 6,
   "metadata": {
    "collapsed": false
   },
   "outputs": [],
   "source": [
    "    #create an empty graph\n",
    "    G = nx.Graph()\n",
    "    \n",
    "    #add three edges\n",
    "    G.add_edge('A','B');\n",
    "    G.add_edge('B','C');\n",
    "    G.add_edge('C','A');\n",
    "\n",
    "    #draw the graph\n",
    "    nx.draw(G)\n",
    "\n",
    "    #show\n",
    "    plt.savefig(\"figure_1.png\")"
   ]
  },
  {
   "cell_type": "code",
   "execution_count": 7,
   "metadata": {
    "collapsed": false
   },
   "outputs": [
    {
     "name": "stdout",
     "output_type": "stream",
     "text": [
      "['C', 'A', 'B']\n"
     ]
    }
   ],
   "source": [
    "print(G.nodes())"
   ]
  },
  {
   "cell_type": "code",
   "execution_count": 8,
   "metadata": {
    "collapsed": false
   },
   "outputs": [
    {
     "name": "stdout",
     "output_type": "stream",
     "text": [
      "2.0\n"
     ]
    }
   ],
   "source": [
    "print(nx.average_node_connectivity(G))"
   ]
  },
  {
   "cell_type": "code",
   "execution_count": null,
   "metadata": {
    "collapsed": true
   },
   "outputs": [],
   "source": [
    "G.add_nodes_from([\"d\",\"e\"])"
   ]
  },
  {
   "cell_type": "code",
   "execution_count": null,
   "metadata": {
    "collapsed": false
   },
   "outputs": [],
   "source": [
    "print(G.nodes())"
   ]
  },
  {
   "cell_type": "code",
   "execution_count": null,
   "metadata": {
    "collapsed": true
   },
   "outputs": [],
   "source": [
    "    #draw the graph\n",
    "    nx.draw(G)"
   ]
  },
  {
   "cell_type": "code",
   "execution_count": null,
   "metadata": {
    "collapsed": false
   },
   "outputs": [],
   "source": [
    "plt.show()"
   ]
  },
  {
   "cell_type": "code",
   "execution_count": null,
   "metadata": {
    "collapsed": false
   },
   "outputs": [],
   "source": [
    "G=nx.path_graph(4)\n",
    "\n",
    "print(\"Nodes of graph: \")\n",
    "print(G.nodes())\n",
    "print(\"Edges of graph: \")\n",
    "print(G.edges())\n",
    "nx.draw(G)\n",
    "plt.savefig(\"path_graph1.png\")"
   ]
  },
  {
   "cell_type": "code",
   "execution_count": null,
   "metadata": {
    "collapsed": true
   },
   "outputs": [],
   "source": [
    "G=nx.karate_club_graph()"
   ]
  },
  {
   "cell_type": "code",
   "execution_count": null,
   "metadata": {
    "collapsed": false
   },
   "outputs": [],
   "source": [
    "print(\"Node Degree\")\n",
    "for v in G:\n",
    "    print('%s %s' % (v,G.degree(v)))"
   ]
  },
  {
   "cell_type": "code",
   "execution_count": null,
   "metadata": {
    "collapsed": true
   },
   "outputs": [],
   "source": [
    "nx.draw(G)\n",
    "plt.savefig(\"path_graph2.png\")"
   ]
  },
  {
   "cell_type": "code",
   "execution_count": 4,
   "metadata": {
    "collapsed": false
   },
   "outputs": [
    {
     "name": "stdout",
     "output_type": "stream",
     "text": [
      "Degree histogram\n",
      "degree (#nodes) ****\n"
     ]
    }
   ],
   "source": [
    "from networkx.generators.degree_seq import *\n",
    "\n",
    "n=500 # n nodes\n",
    "p=0.1\n",
    "w=[p*n for i in range(n)] # w = p*n for all nodes\n",
    "G=expected_degree_graph(w)  # configuration model\n",
    "print(\"Degree histogram\")\n",
    "print(\"degree (#nodes) ****\")\n",
    "dh=nx.degree_histogram(G)"
   ]
  },
  {
   "cell_type": "code",
   "execution_count": null,
   "metadata": {
    "collapsed": true
   },
   "outputs": [],
   "source": [
    "nx.draw(G)\n",
    "plt.savefig(\"path_graph3.png\")"
   ]
  },
  {
   "cell_type": "code",
   "execution_count": null,
   "metadata": {
    "collapsed": false
   },
   "outputs": [],
   "source": [
    "low=min(degree(G))\n",
    "for i in range(low,len(dh)):\n",
    "    bar=''.join(dh[i]*['*'])\n",
    "    print(\"%2s (%2s) %s\"%(i,dh[i],bar))"
   ]
  },
  {
   "cell_type": "code",
   "execution_count": null,
   "metadata": {
    "collapsed": true
   },
   "outputs": [],
   "source": []
  },
  {
   "cell_type": "code",
   "execution_count": null,
   "metadata": {
    "collapsed": true
   },
   "outputs": [],
   "source": []
  }
 ],
 "metadata": {
  "kernelspec": {
   "display_name": "Python 3",
   "language": "python",
   "name": "python3"
  },
  "language_info": {
   "codemirror_mode": {
    "name": "ipython",
    "version": 3
   },
   "file_extension": ".py",
   "mimetype": "text/x-python",
   "name": "python",
   "nbconvert_exporter": "python",
   "pygments_lexer": "ipython3",
   "version": "3.4.3"
  }
 },
 "nbformat": 4,
 "nbformat_minor": 0
}
