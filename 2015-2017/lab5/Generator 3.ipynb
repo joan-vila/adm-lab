{
 "cells": [
  {
   "cell_type": "code",
   "execution_count": 8,
   "metadata": {
    "collapsed": false
   },
   "outputs": [],
   "source": [
    "from networkx import *\n",
    "import matplotlib.pyplot as plt\n",
    "\n",
    "from networkx.generators.degree_seq import *"
   ]
  },
  {
   "cell_type": "code",
   "execution_count": 18,
   "metadata": {
    "collapsed": true
   },
   "outputs": [],
   "source": [
    "n=50\n",
    "p=0.2\n",
    "w=[p*n for i in range(n)]\n",
    "G=expected_degree_graph(w)"
   ]
  },
  {
   "cell_type": "code",
   "execution_count": 16,
   "metadata": {
    "collapsed": true
   },
   "outputs": [],
   "source": [
    "plt.clf()\n",
    "nx.draw(G)\n",
    "plt.savefig(\"random.png\")"
   ]
  },
  {
   "cell_type": "code",
   "execution_count": 19,
   "metadata": {
    "collapsed": false
   },
   "outputs": [
    {
     "name": "stdout",
     "output_type": "stream",
     "text": [
      "Degree histogram\n",
      "degree (#nodes) ****\n",
      " 0 ( 0) \n",
      " 1 ( 0) \n",
      " 2 ( 0) \n",
      " 3 ( 0) \n",
      " 4 ( 0) \n",
      " 5 ( 1) *\n",
      " 6 ( 2) **\n",
      " 7 ( 4) ****\n",
      " 8 ( 6) ******\n",
      " 9 ( 7) *******\n",
      "10 ( 6) ******\n",
      "11 ( 4) ****\n",
      "12 ( 8) ********\n",
      "13 ( 4) ****\n",
      "14 ( 5) *****\n",
      "15 ( 2) **\n",
      "16 ( 0) \n",
      "17 ( 0) \n",
      "18 ( 1) *\n"
     ]
    }
   ],
   "source": [
    "print(\"Degree histogram\")\n",
    "print(\"degree (#nodes) ****\")\n",
    "dh=degree_histogram(G)\n",
    "low=min(degree(G))\n",
    "for i in range(low,len(dh)):\n",
    "    bar=''.join(dh[i]*['*'])\n",
    "    print(\"%2s (%2s) %s\"%(i,dh[i],bar))"
   ]
  },
  {
   "cell_type": "code",
   "execution_count": 20,
   "metadata": {
    "collapsed": false
   },
   "outputs": [
    {
     "name": "stdout",
     "output_type": "stream",
     "text": [
      "{0: 10, 1: 8, 2: 7, 3: 9, 4: 12, 5: 9, 6: 9, 7: 12, 8: 10, 9: 15, 10: 12, 11: 10, 12: 8, 13: 12, 14: 11, 15: 11, 16: 7, 17: 13, 18: 14, 19: 9, 20: 14, 21: 8, 22: 14, 23: 10, 24: 10, 25: 14, 26: 6, 27: 12, 28: 7, 29: 7, 30: 14, 31: 11, 32: 18, 33: 8, 34: 15, 35: 9, 36: 9, 37: 12, 38: 6, 39: 13, 40: 8, 41: 9, 42: 10, 43: 5, 44: 12, 45: 13, 46: 8, 47: 12, 48: 11, 49: 13}\n"
     ]
    }
   ],
   "source": [
    "print(degree(G))"
   ]
  },
  {
   "cell_type": "code",
   "execution_count": null,
   "metadata": {
    "collapsed": true
   },
   "outputs": [],
   "source": []
  }
 ],
 "metadata": {
  "kernelspec": {
   "display_name": "Python 3",
   "language": "python",
   "name": "python3"
  },
  "language_info": {
   "codemirror_mode": {
    "name": "ipython",
    "version": 3
   },
   "file_extension": ".py",
   "mimetype": "text/x-python",
   "name": "python",
   "nbconvert_exporter": "python",
   "pygments_lexer": "ipython3",
   "version": "3.4.3"
  }
 },
 "nbformat": 4,
 "nbformat_minor": 0
}
