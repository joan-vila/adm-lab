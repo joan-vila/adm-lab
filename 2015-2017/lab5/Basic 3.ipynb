{
 "cells": [
  {
   "cell_type": "code",
   "execution_count": 1,
   "metadata": {
    "collapsed": false
   },
   "outputs": [
    {
     "name": "stderr",
     "output_type": "stream",
     "text": [
      "/usr/local/lib/python3.4/dist-packages/matplotlib-1.4.3-py3.4-linux-x86_64.egg/matplotlib/backends/backend_gtk3agg.py:18: UserWarning: The Gtk3Agg backend is known to not work on Python 3.x with pycairo. Try installing cairocffi.\n",
      "  \"The Gtk3Agg backend is known to not work on Python 3.x with pycairo. \"\n",
      "/usr/local/lib/python3.4/dist-packages/matplotlib-1.4.3-py3.4-linux-x86_64.egg/matplotlib/collections.py:650: FutureWarning: elementwise comparison failed; returning scalar instead, but in the future will perform elementwise comparison\n",
      "  if self._edgecolors_original != str('face'):\n",
      "/usr/local/lib/python3.4/dist-packages/matplotlib-1.4.3-py3.4-linux-x86_64.egg/matplotlib/collections.py:590: FutureWarning: elementwise comparison failed; returning scalar instead, but in the future will perform elementwise comparison\n",
      "  if self._edgecolors == str('face'):\n"
     ]
    }
   ],
   "source": [
    "import networkx as nx\n",
    "\n",
    "# Matplotlib is the default package for\n",
    "# rendering the graphs\n",
    "import matplotlib.pyplot as plt\n",
    "\n",
    "#create an empty graph\n",
    "G = nx.Graph()\n",
    "\n",
    "#add three edges\n",
    "G.add_edge('A','B');\n",
    "G.add_edge('B','C');\n",
    "G.add_edge('C','A');\n",
    "G.add_edge('D','A');\n",
    "\n",
    "#draw the graph\n",
    "nx.draw(G)\n",
    "plt.savefig(\"graph-4.png\")"
   ]
  },
  {
   "cell_type": "code",
   "execution_count": 2,
   "metadata": {
    "collapsed": false
   },
   "outputs": [],
   "source": [
    "plt.clf()"
   ]
  },
  {
   "cell_type": "code",
   "execution_count": 3,
   "metadata": {
    "collapsed": false
   },
   "outputs": [],
   "source": [
    "G['A']['B']['weight'] = 5\n",
    "G['B']['C']['weight'] = 14\n",
    "G['C']['A']['weight'] = 25\n",
    "G['D']['A']['weight'] = 100\n",
    "\n",
    "pos = nx.spring_layout(G)"
   ]
  },
  {
   "cell_type": "code",
   "execution_count": 4,
   "metadata": {
    "collapsed": false
   },
   "outputs": [
    {
     "data": {
      "text/plain": [
       "{'A': array([-0.08170881,  0.44492893]),\n",
       " 'B': array([ 0.40913805, -1.03483411]),\n",
       " 'C': array([-0.20970962, -0.41009481]),\n",
       " 'D': array([-0.11771962,  1.        ])}"
      ]
     },
     "execution_count": 4,
     "metadata": {},
     "output_type": "execute_result"
    }
   ],
   "source": [
    "pos"
   ]
  },
  {
   "cell_type": "code",
   "execution_count": 34,
   "metadata": {
    "collapsed": true
   },
   "outputs": [],
   "source": [
    "nx.draw(G)\n",
    "plt.savefig(\"graph-5.png\")"
   ]
  },
  {
   "cell_type": "code",
   "execution_count": 35,
   "metadata": {
    "collapsed": false
   },
   "outputs": [],
   "source": [
    "plt.clf()"
   ]
  },
  {
   "cell_type": "code",
   "execution_count": 36,
   "metadata": {
    "collapsed": true
   },
   "outputs": [],
   "source": [
    "edge_weight=dict([((u,v,),int(d['weight'])) for u,v,d in G.edges(data=True)])\n",
    "\n",
    "nx.draw_networkx_edge_labels(G,pos,edge_labels=edge_weight)\n",
    "nx.draw_networkx_nodes(G,pos)\n",
    "nx.draw_networkx_edges(G,pos)\n",
    "nx.draw_networkx_labels(G,pos)\n",
    "plt.axis('off')\n",
    "\n",
    "plt.savefig(\"graph-6.png\")"
   ]
  },
  {
   "cell_type": "code",
   "execution_count": null,
   "metadata": {
    "collapsed": true
   },
   "outputs": [],
   "source": []
  }
 ],
 "metadata": {
  "kernelspec": {
   "display_name": "Python 3",
   "language": "python",
   "name": "python3"
  },
  "language_info": {
   "codemirror_mode": {
    "name": "ipython",
    "version": 3
   },
   "file_extension": ".py",
   "mimetype": "text/x-python",
   "name": "python",
   "nbconvert_exporter": "python",
   "pygments_lexer": "ipython3",
   "version": "3.4.3"
  }
 },
 "nbformat": 4,
 "nbformat_minor": 0
}
